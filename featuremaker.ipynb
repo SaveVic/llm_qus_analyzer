{
 "cells": [
  {
   "cell_type": "code",
   "execution_count": 1,
   "id": "4ws3jz0mh4f",
   "metadata": {},
   "outputs": [
    {
     "name": "stdout",
     "output_type": "stream",
     "text": [
      "✅ Imports successful\n"
     ]
    }
   ],
   "source": [
    "# Step 1: Setup imports and paths\n",
    "import sys\n",
    "from pathlib import Path\n",
    "sys.path.insert(0, str(Path().cwd() / \"llm_qus_analyzer\"))\n",
    "import json\n",
    "from llm_qus_analyzer import Settings, LLMClient, QUSChunkerModel\n",
    "print(\"✅ Imports successful\")"
   ]
  },
  {
   "cell_type": "code",
   "execution_count": 2,
   "id": "94e5372c",
   "metadata": {},
   "outputs": [
    {
     "name": "stdout",
     "output_type": "stream",
     "text": [
      "✅ Settings loaded successfully\n",
      "API key loaded: tgp_v1_9xj...\n"
     ]
    }
   ],
   "source": [
    "# Step 2: Load settings and config\n",
    "settings = Settings()\n",
    "settings.configure_paths_and_load(\n",
    "    env_path=Path(\".env\"),\n",
    "    model_config_path=Path(\"models.yaml\")\n",
    ")\n",
    "print(\"✅ Settings loaded successfully\")\n",
    "print(f\"API key loaded: {settings.config.api_key[:10]}...\")"
   ]
  },
  {
   "cell_type": "code",
   "execution_count": 3,
   "id": "5e4d6a8c",
   "metadata": {},
   "outputs": [
    {
     "name": "stdout",
     "output_type": "stream",
     "text": [
      "✅ Client and chunker initialized\n",
      "Available models: ['Mixtral 8x7B']\n"
     ]
    }
   ],
   "source": [
    "# Step 3: Initialize client and chunker\n",
    "client = LLMClient(settings)\n",
    "chunker = QUSChunkerModel()\n",
    "print(\"✅ Client and chunker initialized\")\n",
    "print(f\"Available models: {client.names}\")"
   ]
  },
  {
   "cell_type": "code",
   "execution_count": null,
   "id": "3d572b0f",
   "metadata": {},
   "outputs": [
    {
     "name": "stdout",
     "output_type": "stream",
     "text": [
      "DEBUG - Raw LLM content:\n",
      " {\n",
      "    \"expanded\": \"As a User, I am able to edit any landmark\",\n",
      "    \"component\": {\n",
      "          \"[Role]\": [\"User\"],\n",
      "         \"[Means]\": \"edit any landmark\",\n",
      "          \"[Ends]\": \"None\"\n",
      "    }\n",
      "}\n",
      "DEBUG - Content length: 188\n",
      "DEBUG - Cleaned JSON:\n",
      " {\n",
      "    \"expanded\": \"As a User, I am able to edit any landmark\",\n",
      "    \"component\": {\n",
      "          \"[Role]\": [\"User\"],\n",
      "         \"[Means]\": \"edit any landmark\",\n",
      "          \"[Ends]\": \"None\"\n",
      "    }\n",
      "}\n",
      "DEBUG - Raw LLM content:\n",
      " {\n",
      "    \"expanded\": \"As a User, I am able to delete only the landmarks that I have added\",\n",
      "    \"component\": {\n",
      "          \"[Role]\": [\"User\"],\n",
      "         \"[Means]\": \"delete only the landmarks\",\n",
      "          \"[Ends]\": \"that I have added\"\n",
      "    }\n",
      "}\n",
      "DEBUG - Content length: 235\n",
      "DEBUG - Cleaned JSON:\n",
      " {\n",
      "    \"expanded\": \"As a User, I am able to delete only the landmarks that I have added\",\n",
      "    \"component\": {\n",
      "          \"[Role]\": [\"User\"],\n",
      "         \"[Means]\": \"delete only the landmarks\",\n",
      "          \"[Ends]\": \"that I have added\"\n",
      "    }\n",
      "}\n"
     ]
    }
   ],
   "source": [
    "# user_stories = [\n",
    "#     \"As a User, I'm able to edit any landmark\",\n",
    "#     \"As a User, I'm able to delete only the landmarks that I added\"\n",
    "# ]\n",
    "# results = []\n",
    "# for story in user_stories:\n",
    "#     component, usage = chunker.analyze_single(client, 0, story)\n",
    "#     results.append({\n",
    "#         \"user_story\": story,\n",
    "#         \"expanded_text\": component.text,\n",
    "#         \"role\": component.role,\n",
    "#         \"means\": component.means,\n",
    "#         \"ends\": component.ends,\n",
    "#         \"template\": {\n",
    "#             \"text\": component.template.text,\n",
    "#             \"chunk\": component.template.chunk,\n",
    "#             \"tail\": component.template.tail,\n",
    "#             \"order\": component.template.order\n",
    "#         },\n",
    "#         \"usage\": {\n",
    "#             \"duration\": usage.duration,\n",
    "#             \"input_tokens\": usage.num_token_in,\n",
    "#             \"output_tokens\": usage.num_token_out\n",
    "#         }\n",
    "#     })\n",
    "\n",
    "# with open(\"landmark_stories.json\", \"w\") as f:\n",
    "#     json.dump(results, f, indent=2)"
   ]
  },
  {
   "cell_type": "code",
   "execution_count": 7,
   "id": "y80ts685rl",
   "metadata": {},
   "outputs": [
    {
     "name": "stdout",
     "output_type": "stream",
     "text": [
      "[{'user_story': \"As a User, I'm able to edit any landmark\", 'expanded_text': 'As a User, I am able to edit any landmark', 'role': ['User'], 'means': 'edit any landmark', 'ends': None, 'template': {'text': 'As a {ROLE}, I am able to {MEANS}', 'chunk': {'[ROLE]': ['[ADP]', '[DET]'], '[MEANS]': ['[PUNCT]', '[PRON]', '[AUX]', '[ADJ]', '[PART]']}, 'tail': None, 'order': ['[ROLE]', '[MEANS]']}, 'usage': {'duration': 1.563727617263794, 'input_tokens': 559, 'output_tokens': 65}}, {'user_story': \"As a User, I'm able to delete only the landmarks that I added\", 'expanded_text': 'As a User, I am able to delete only the landmarks that I have added', 'role': ['User'], 'means': 'delete only the landmarks', 'ends': 'that I have added', 'template': {'text': 'As a {ROLE}, I am able to {MEANS} {ENDS}', 'chunk': {'[ROLE]': ['[ADP]', '[DET]'], '[MEANS]': ['[PUNCT]', '[PRON]', '[AUX]', '[ADJ]', '[PART]'], '[ENDS]': []}, 'tail': None, 'order': ['[ROLE]', '[MEANS]', '[ENDS]']}, 'usage': {'duration': 1.152691125869751, 'input_tokens': 563, 'output_tokens': 74}}]\n"
     ]
    }
   ],
   "source": [
    "with open(\"landmark_stories.json\", \"r\") as f:\n",
    "    data = json.load(f)\n",
    "\n",
    "print(data)"
   ]
  },
  {
   "cell_type": "code",
   "execution_count": null,
   "id": "1be43e8c",
   "metadata": {},
   "outputs": [],
   "source": [
    "from llm_qus_analyzer import ConflictFreeAnalyzer\n",
    "ConflictFreeAnalyzer."
   ]
  }
 ],
 "metadata": {
  "kernelspec": {
   "display_name": "torch_env",
   "language": "python",
   "name": "python3"
  },
  "language_info": {
   "codemirror_mode": {
    "name": "ipython",
    "version": 3
   },
   "file_extension": ".py",
   "mimetype": "text/x-python",
   "name": "python",
   "nbconvert_exporter": "python",
   "pygments_lexer": "ipython3",
   "version": "3.10.16"
  }
 },
 "nbformat": 4,
 "nbformat_minor": 5
}
