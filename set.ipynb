{
 "cells": [
  {
   "cell_type": "code",
   "execution_count": 1,
   "id": "4ws3jz0mh4f",
   "metadata": {},
   "outputs": [
    {
     "name": "stdout",
     "output_type": "stream",
     "text": [
      "✅ Imports successful\n"
     ]
    }
   ],
   "source": [
    "# Step 1: Setup imports and paths\n",
    "import sys\n",
    "from pathlib import Path\n",
    "sys.path.insert(0, str(Path().cwd() / \"llm_qus_analyzer\"))\n",
    "import json\n",
    "from llm_qus_analyzer import Settings, LLMClient, QUSChunkerModel\n",
    "print(\"✅ Imports successful\")"
   ]
  },
  {
   "cell_type": "code",
   "execution_count": 2,
   "id": "94e5372c",
   "metadata": {},
   "outputs": [
    {
     "name": "stdout",
     "output_type": "stream",
     "text": [
      "✅ Settings loaded successfully\n",
      "API key loaded: tgp_v1_9xj...\n"
     ]
    }
   ],
   "source": [
    "# Step 2: Load settings and config\n",
    "settings = Settings()\n",
    "settings.configure_paths_and_load(\n",
    "    env_path=Path(\".env\"),\n",
    "    model_config_path=Path(\"models.yaml\")\n",
    ")\n",
    "print(\"✅ Settings loaded successfully\")\n",
    "print(f\"API key loaded: {settings.config.api_key[:10]}...\")"
   ]
  },
  {
   "cell_type": "code",
   "execution_count": 3,
   "id": "5e4d6a8c",
   "metadata": {},
   "outputs": [
    {
     "name": "stdout",
     "output_type": "stream",
     "text": [
      "✅ Client and chunker initialized\n",
      "Available models: ['Mixtral 8x7B']\n"
     ]
    }
   ],
   "source": [
    "# Step 3: Initialize client and chunker\n",
    "client = LLMClient(settings)\n",
    "chunker = QUSChunkerModel()\n",
    "print(\"✅ Client and chunker initialized\")\n",
    "print(f\"Available models: {client.names}\")"
   ]
  },
  {
   "cell_type": "code",
   "execution_count": null,
   "id": "3d572b0f",
   "metadata": {},
   "outputs": [
    {
     "name": "stdout",
     "output_type": "stream",
     "text": [
      "Downloading stanza processor\n"
     ]
    }
   ],
   "source": [
    "# import json\n",
    "\n",
    "# # assumes: `client` and `chunker.analyze_single(client, idx, text)` already exist\n",
    "\n",
    "# conflict_free = [\n",
    "#   {\n",
    "#     \"pair\": 1,\n",
    "#     \"stories\": [\n",
    "#       \"As a User, I want to delete posts so that I remove spam.\",\n",
    "#       \"As a User, I want to delete posts so that I hide content temporarily.\"\n",
    "#     ],\n",
    "#     \"violation\": \"sameMeansDiffEnd\"\n",
    "#   },\n",
    "#   {\n",
    "#     \"pair\": 2,\n",
    "#     \"stories\": [\n",
    "#       \"As a Shopper, I want to favorite products so that I find them later.\",\n",
    "#       \"As a Shopper, I want to bookmark products so that I find them later.\"\n",
    "#     ],\n",
    "#     \"violation\": \"diffMeansSameEnd\"\n",
    "#   },\n",
    "#   {\n",
    "#     \"pair\": 3,\n",
    "#     \"stories\": [\n",
    "#       \"As a Driver, I want to pay tolls with cash so that I pass the gate.\",\n",
    "#       \"As a Driver, I want to pass tolls without payment so that I pass the gate.\"\n",
    "#     ],\n",
    "#     \"violation\": \"diffMeansSameEnd\"\n",
    "#   },\n",
    "#   {\n",
    "#     \"pair\": 4,\n",
    "#     \"stories\": [\n",
    "#       \"As a Guest, I want to view all photos so that I enjoy the gallery.\",\n",
    "#       \"As an Owner, I want Guests to view only public photos so that I protect privacy.\"\n",
    "#     ],\n",
    "#     \"violation\": \"diffRoleSameStory\"\n",
    "#   },\n",
    "#   {\n",
    "#     \"pair\": 5,\n",
    "#     \"stories\": [\n",
    "#       \"As a User, I want to edit profiles so that I update my information.\",\n",
    "#       \"As a User, I want to edit profiles so that I change other users’ information.\"\n",
    "#     ],\n",
    "#     \"violation\": \"sameMeansDiffEnd\"\n",
    "#   }\n",
    "# ]\n",
    "\n",
    "# results = []\n",
    "# for item in user_stories:\n",
    "#     pair_results = []\n",
    "#     for story in item[\"stories\"]:\n",
    "#         component, usage = chunker.analyze_single(client, 0, story)\n",
    "#         pair_results.append({\n",
    "#             \"user_story\": story,\n",
    "#             \"expanded_text\": component.text,\n",
    "#             \"role\": component.role,\n",
    "#             \"means\": component.means,\n",
    "#             \"ends\": component.ends,\n",
    "#             \"template\": {\n",
    "#                 \"text\": component.template.text,\n",
    "#                 \"chunk\": component.template.chunk,\n",
    "#                 \"tail\": component.template.tail,\n",
    "#                 \"order\": component.template.order\n",
    "#             },\n",
    "#             \"usage\": {\n",
    "#                 \"duration\": usage.duration,\n",
    "#                 \"input_tokens\": usage.num_token_in,\n",
    "#                 \"output_tokens\": usage.num_token_out\n",
    "#             }\n",
    "#         })\n",
    "#     results.append({\n",
    "#         \"pair\": item[\"pair\"],\n",
    "#         \"stories\": pair_results\n",
    "#     })\n",
    "\n",
    "# try:\n",
    "#     with open(\"landmark_stories.json\", \"w\", encoding=\"utf-8\") as f:\n",
    "#         json.dump(results, f, indent=2, ensure_ascii=False)\n",
    "# except OSError as e:\n",
    "#     raise RuntimeError(f\"Failed to write landmark_stories.json: {e.strerror}\") from e\n"
   ]
  },
  {
   "cell_type": "code",
   "execution_count": null,
   "id": "96a9f8b0",
   "metadata": {},
   "outputs": [],
   "source": []
  },
  {
   "cell_type": "code",
   "execution_count": null,
   "id": "db327e15",
   "metadata": {},
   "outputs": [],
   "source": []
  },
  {
   "cell_type": "code",
   "execution_count": null,
   "id": "y80ts685rl",
   "metadata": {},
   "outputs": [
    {
     "name": "stdout",
     "output_type": "stream",
     "text": [
      "sameMeansDiffEnd\n",
      "diffMeansSameEnd\n",
      "diffMeansSameEnd\n",
      "diffRoleSameStory\n",
      "sameMeansDiffEnd\n"
     ]
    }
   ],
   "source": [
    "with open(\"conflict_free_pair.json\", \"r\") as f:\n",
    "    data = json.load(f)\n"
   ]
  },
  {
   "cell_type": "code",
   "execution_count": 69,
   "id": "1be43e8c",
   "metadata": {},
   "outputs": [
    {
     "name": "stdout",
     "output_type": "stream",
     "text": [
      "[pair 1] As a User, I want to delete posts so that I remove spam.\n",
      "[pair 1] As a User, I want to delete posts so that I hide content temporarily.\n",
      "[pair 2] As a shopper, I am able to favorite products so that I can find them later.\n",
      "[pair 2] As a shopper, I am booking mark products so that I can find them later.\n",
      "[pair 3] As a driver, I am paying tolls with cash so that I pass the gate.\n",
      "[pair 3] As a driver, I am able to pass tolls without payment so that I pass the gate.\n",
      "[pair 4] As a guest, I am viewing all photos so that I enjoy the gallery.\n",
      "[pair 4] As an owner, I am able to ensure that guests view only public photos so that I protect privacy.\n",
      "[pair 5] As a user, I am editing profiles so that I update my information.\n",
      "[pair 5] As a user, I am editing profiles so that I can change other users’ information.\n"
     ]
    }
   ],
   "source": [
    "from typing import Any, Dict, List, Tuple\n",
    "\n",
    "Pair = Dict[str, Any]\n",
    "StoryCore = Tuple[List[str], str, str, str]  # (roles, means, ends, expanded_text)\n",
    "\n",
    "def extract_core_zero_based(data: List[Pair]) -> Tuple[List[Dict[str, Any]], Dict[int, int]]:\n",
    "    \"\"\"\n",
    "    Build a zero-based compact list of pairs.\n",
    "    Returns (core_list, id_to_index):\n",
    "      - core_list[i] = {\"pair\": pair_id, \"violation\": str, \"stories\": List[StoryCore]}\n",
    "      - id_to_index[pair_id] = i\n",
    "    \"\"\"\n",
    "    pairs_sorted = sorted(data, key=lambda p: p[\"pair\"])\n",
    "    core_list: List[Dict[str, Any]] = []\n",
    "\n",
    "    for p in pairs_sorted:\n",
    "        stories: List[StoryCore] = [\n",
    "            (s[\"role\"], s[\"means\"], s[\"ends\"], s[\"expanded_text\"])\n",
    "            for s in p[\"stories\"]\n",
    "        ]\n",
    "        core_list.append({\n",
    "            \"pair\": p[\"pair\"],\n",
    "            \"violation\": p.get(\"violation\"),\n",
    "            \"stories\": stories,\n",
    "        })\n",
    "\n",
    "    id_to_index = {entry[\"pair\"]: idx for idx, entry in enumerate(core_list)}\n",
    "    return core_list, id_to_index\n",
    "\n",
    "# ---- usage ----\n",
    "# data = [...]  # your full list from the message\n",
    "core, idx = extract_core_zero_based(data)\n",
    "\n",
    "# index 0 is the first pair\n",
    "roles, means, ends, us = core[0][\"stories\"][0]\n",
    "\n",
    "# access by pair id directly\n",
    "pid = 3\n",
    "i = idx[pid]\n",
    "roles2, means2, ends2, us2 = core[i][\"stories\"][0]\n",
    "\n",
    "# iterate all expanded_text\n",
    "for entry in core:\n",
    "    pid = entry[\"pair\"]\n",
    "    for _, _, _, u in entry[\"stories\"]:\n",
    "        print(f\"[pair {pid}] {u}\")\n"
   ]
  },
  {
   "cell_type": "code",
   "execution_count": null,
   "id": "009fc838",
   "metadata": {},
   "outputs": [
    {
     "data": {
      "text/plain": [
       "{'violation': None, 'stories': []}"
      ]
     },
     "execution_count": 66,
     "metadata": {},
     "output_type": "execute_result"
    }
   ],
   "source": []
  },
  {
   "cell_type": "code",
   "execution_count": 72,
   "id": "9becdb57",
   "metadata": {},
   "outputs": [
    {
     "data": {
      "text/plain": [
       "{'pair': 1,\n",
       " 'violation': 'sameMeansDiffEnd',\n",
       " 'stories': [(['User'],\n",
       "   'delete posts',\n",
       "   'remove spam',\n",
       "   'As a User, I want to delete posts so that I remove spam.'),\n",
       "  (['User'],\n",
       "   'delete posts',\n",
       "   'hide content temporarily',\n",
       "   'As a User, I want to delete posts so that I hide content temporarily.')]}"
      ]
     },
     "execution_count": 72,
     "metadata": {},
     "output_type": "execute_result"
    }
   ],
   "source": [
    "core[0]"
   ]
  },
  {
   "cell_type": "code",
   "execution_count": null,
   "id": "236d1fa5",
   "metadata": {},
   "outputs": [],
   "source": []
  }
 ],
 "metadata": {
  "kernelspec": {
   "display_name": "torch_env",
   "language": "python",
   "name": "python3"
  },
  "language_info": {
   "codemirror_mode": {
    "name": "ipython",
    "version": 3
   },
   "file_extension": ".py",
   "mimetype": "text/x-python",
   "name": "python",
   "nbconvert_exporter": "python",
   "pygments_lexer": "ipython3",
   "version": "3.10.16"
  }
 },
 "nbformat": 4,
 "nbformat_minor": 5
}
